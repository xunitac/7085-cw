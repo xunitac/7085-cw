{
 "cells": [
  {
   "cell_type": "markdown",
   "metadata": {
    "colab_type": "text",
    "id": "DM5TAFJkNtVy"
   },
   "source": [
    "Here we will use [**A Million News Headlines**](https://www.kaggle.com/therohk/million-headlines) "
   ]
  },
  {
   "cell_type": "markdown",
   "metadata": {
    "colab_type": "text",
    "id": "vNwqC9DpOBA2"
   },
   "source": [
    "# Imports"
   ]
  },
  {
   "cell_type": "code",
   "execution_count": 1,
   "metadata": {
    "colab": {
     "base_uri": "https://localhost:8080/",
     "height": 86
    },
    "colab_type": "code",
    "id": "ocIO_AoQNp1h",
    "outputId": "33d55b64-651f-46be-836c-0d4e476ae951"
   },
   "outputs": [
    {
     "name": "stderr",
     "output_type": "stream",
     "text": [
      "[nltk_data] Downloading package stopwords to\n",
      "[nltk_data]     C:\\Users\\Zunair\\AppData\\Roaming\\nltk_data...\n",
      "[nltk_data]   Package stopwords is already up-to-date!\n",
      "[nltk_data] Downloading package punkt to\n",
      "[nltk_data]     C:\\Users\\Zunair\\AppData\\Roaming\\nltk_data...\n",
      "[nltk_data]   Package punkt is already up-to-date!\n"
     ]
    }
   ],
   "source": [
    "import pandas as pd\n",
    "pd.set_option('display.max_columns', None)# to print all columns\n",
    "import nltk\n",
    "import re\n",
    "import nltk\n",
    "from nltk.corpus import stopwords\n",
    "from nltk.tokenize import word_tokenize \n",
    "from nltk.stem import PorterStemmer\n",
    "from sklearn.decomposition import LatentDirichletAllocation, TruncatedSVD\n",
    "from sklearn.feature_extraction.text import CountVectorizer, TfidfVectorizer\n",
    "from sklearn.model_selection import GridSearchCV\n",
    "import gensim\n",
    "import gensim.corpora as corpora\n",
    "from gensim.models import CoherenceModel\n",
    "from pprint import pprint\n",
    "import matplotlib.pyplot as plt\n",
    "\n",
    "import time\n",
    "import numpy as np\n",
    "nltk.download('stopwords')\n",
    "nltk.download('punkt')\n",
    "stop_words = set(stopwords.words('english')) \n",
    "porter=PorterStemmer()"
   ]
  },
  {
   "cell_type": "markdown",
   "metadata": {
    "colab_type": "text",
    "id": "Uc6T3zffOJYB"
   },
   "source": [
    "# Explore Data"
   ]
  },
  {
   "cell_type": "code",
   "execution_count": 2,
   "metadata": {
    "colab": {
     "base_uri": "https://localhost:8080/",
     "height": 52
    },
    "colab_type": "code",
    "id": "7RlBQV1aOLOJ",
    "outputId": "d7dfe60f-0652-4052-d511-8e0df37422c6"
   },
   "outputs": [],
   "source": [
    "# extract zip file\n",
    "#unzip million-headlines.zip"
   ]
  },
  {
   "cell_type": "code",
   "execution_count": 3,
   "metadata": {
    "colab": {},
    "colab_type": "code",
    "id": "QeiJre5HOR5z"
   },
   "outputs": [],
   "source": [
    "# read csv file using pandas\n",
    "data = pd.read_csv('D:\\\\7085\\\\dataset.csv')"
   ]
  },
  {
   "cell_type": "code",
   "execution_count": 84,
   "metadata": {
    "colab": {
     "base_uri": "https://localhost:8080/",
     "height": 206
    },
    "colab_type": "code",
    "id": "dXCwgM8FQgbx",
    "outputId": "2a049853-1027-4238-9959-851ae0477c36"
   },
   "outputs": [
    {
     "data": {
      "text/html": [
       "<div>\n",
       "<style scoped>\n",
       "    .dataframe tbody tr th:only-of-type {\n",
       "        vertical-align: middle;\n",
       "    }\n",
       "\n",
       "    .dataframe tbody tr th {\n",
       "        vertical-align: top;\n",
       "    }\n",
       "\n",
       "    .dataframe thead th {\n",
       "        text-align: right;\n",
       "    }\n",
       "</style>\n",
       "<table border=\"1\" class=\"dataframe\">\n",
       "  <thead>\n",
       "    <tr style=\"text-align: right;\">\n",
       "      <th></th>\n",
       "      <th>headline_text</th>\n",
       "      <th>processed_headline_text</th>\n",
       "      <th>tokenize_text</th>\n",
       "    </tr>\n",
       "  </thead>\n",
       "  <tbody>\n",
       "    <tr>\n",
       "      <td>0</td>\n",
       "      <td>aba decides against community broadcasting lic...</td>\n",
       "      <td>aba decid commun broadcast licenc</td>\n",
       "      <td>[aba, decid, commun, broadcast, licenc]</td>\n",
       "    </tr>\n",
       "    <tr>\n",
       "      <td>1</td>\n",
       "      <td>act fire witnesses must be aware of defamation</td>\n",
       "      <td>act fire wit must awar defam</td>\n",
       "      <td>[act, fire, wit, must, awar, defam]</td>\n",
       "    </tr>\n",
       "    <tr>\n",
       "      <td>2</td>\n",
       "      <td>a g calls for infrastructure protection summit</td>\n",
       "      <td>g call infrastructur protect summit</td>\n",
       "      <td>[g, call, infrastructur, protect, summit]</td>\n",
       "    </tr>\n",
       "    <tr>\n",
       "      <td>3</td>\n",
       "      <td>air nz staff in aust strike for pay rise</td>\n",
       "      <td>air nz staff aust strike pay rise</td>\n",
       "      <td>[air, nz, staff, aust, strike, pay, rise]</td>\n",
       "    </tr>\n",
       "    <tr>\n",
       "      <td>4</td>\n",
       "      <td>air nz strike to affect australian travellers</td>\n",
       "      <td>air nz strike affect australian travel</td>\n",
       "      <td>[air, nz, strike, affect, australian, travel]</td>\n",
       "    </tr>\n",
       "  </tbody>\n",
       "</table>\n",
       "</div>"
      ],
      "text/plain": [
       "                                       headline_text  \\\n",
       "0  aba decides against community broadcasting lic...   \n",
       "1     act fire witnesses must be aware of defamation   \n",
       "2     a g calls for infrastructure protection summit   \n",
       "3           air nz staff in aust strike for pay rise   \n",
       "4      air nz strike to affect australian travellers   \n",
       "\n",
       "                  processed_headline_text  \\\n",
       "0       aba decid commun broadcast licenc   \n",
       "1            act fire wit must awar defam   \n",
       "2     g call infrastructur protect summit   \n",
       "3       air nz staff aust strike pay rise   \n",
       "4  air nz strike affect australian travel   \n",
       "\n",
       "                                   tokenize_text  \n",
       "0        [aba, decid, commun, broadcast, licenc]  \n",
       "1            [act, fire, wit, must, awar, defam]  \n",
       "2      [g, call, infrastructur, protect, summit]  \n",
       "3      [air, nz, staff, aust, strike, pay, rise]  \n",
       "4  [air, nz, strike, affect, australian, travel]  "
      ]
     },
     "execution_count": 84,
     "metadata": {},
     "output_type": "execute_result"
    }
   ],
   "source": [
    "#print first five rows\n",
    "data.head()\n",
    "\n",
    "#Import the wordcloud library\n",
    "#from wordcloud import WordCloud\n",
    "# Join the different processed titles together.\n",
    "#long_string = ','.join(list(data['headline_text'].values))\n",
    "# Create a WordCloud object\n",
    "#wordcloud = WordCloud(background_color=\"white\", max_words=5000, contour_width=5, contour_color='grey')\n",
    "# Generate a word cloud\n",
    "#wordcloud.generate(long_string)\n",
    "# Visualize the word cloud\n",
    "#wordcloud.to_image()\n",
    "\n"
   ]
  },
  {
   "cell_type": "markdown",
   "metadata": {
    "colab_type": "text",
    "id": "WyXQmre4Qr1u"
   },
   "source": [
    "**Here we have two columns 1. publish_date  2.headline_text** <br>\n",
    "**For our task we need only headline_text column we will remove publish_date**"
   ]
  },
  {
   "cell_type": "code",
   "execution_count": 5,
   "metadata": {
    "colab": {},
    "colab_type": "code",
    "id": "5_9LGeq7SoJf"
   },
   "outputs": [],
   "source": [
    "#drop method wll delete column from dataframe \n",
    "#axis=1 means column\n",
    "data = data.drop(['publish_date'],axis=1)"
   ]
  },
  {
   "cell_type": "code",
   "execution_count": 6,
   "metadata": {
    "colab": {
     "base_uri": "https://localhost:8080/",
     "height": 34
    },
    "colab_type": "code",
    "id": "w8UPkNmEQp39",
    "outputId": "13faa028-f176-4a13-839f-736c6d2e41bb"
   },
   "outputs": [
    {
     "name": "stdout",
     "output_type": "stream",
     "text": [
      "we have total 1186018 number of rows\n"
     ]
    }
   ],
   "source": [
    "# get how many rows we have\n",
    "num_rows = data.shape[0]\n",
    "print(\"we have total {} number of rows\".format(num_rows))"
   ]
  },
  {
   "cell_type": "code",
   "execution_count": 7,
   "metadata": {
    "colab": {
     "base_uri": "https://localhost:8080/",
     "height": 34
    },
    "colab_type": "code",
    "id": "4DYhp1MBRg_o",
    "outputId": "675a935e-e3b0-4be8-9d37-5e0cebbeb608"
   },
   "outputs": [
    {
     "data": {
      "text/plain": [
       "0"
      ]
     },
     "execution_count": 7,
     "metadata": {},
     "output_type": "execute_result"
    }
   ],
   "source": [
    "#check is there any null value or not\n",
    "# isnull() method will return boolean value true for null else false\n",
    "# sum method will calculate how many true values \n",
    "data['headline_text'].isnull().sum()"
   ]
  },
  {
   "cell_type": "markdown",
   "metadata": {
    "colab_type": "text",
    "id": "_8hgVED8SDZl"
   },
   "source": [
    "**Here we don't have any null value**"
   ]
  },
  {
   "cell_type": "code",
   "execution_count": 8,
   "metadata": {
    "colab": {},
    "colab_type": "code",
    "id": "UPJCSsiURztk"
   },
   "outputs": [],
   "source": [
    "#check for duplicate value\n",
    "duplicate_data = data[data.duplicated()]"
   ]
  },
  {
   "cell_type": "code",
   "execution_count": 9,
   "metadata": {
    "colab": {
     "base_uri": "https://localhost:8080/",
     "height": 34
    },
    "colab_type": "code",
    "id": "Ivb9oR9jSgub",
    "outputId": "de7d8ce0-0350-49cf-b83a-b4aaf3a31b8f"
   },
   "outputs": [
    {
     "name": "stdout",
     "output_type": "stream",
     "text": [
      "here we have total 30180 duplicate rows\n"
     ]
    }
   ],
   "source": [
    "print(\"here we have total {} duplicate rows\".format(duplicate_data.shape[0]))"
   ]
  },
  {
   "cell_type": "code",
   "execution_count": 10,
   "metadata": {
    "colab": {},
    "colab_type": "code",
    "id": "xtTYNNgETnQ6"
   },
   "outputs": [],
   "source": [
    "#let remove duplicate rows\n",
    "#drop_duplicates method will remove each duplicate row by keeping first occurence of row\n",
    "data = data.drop_duplicates()"
   ]
  },
  {
   "cell_type": "code",
   "execution_count": 11,
   "metadata": {
    "colab": {
     "base_uri": "https://localhost:8080/",
     "height": 34
    },
    "colab_type": "code",
    "id": "odeyc0CQ-VLv",
    "outputId": "74d33a57-590d-490b-b7cd-d1abb55320a6"
   },
   "outputs": [
    {
     "name": "stdout",
     "output_type": "stream",
     "text": [
      "After removing duplicate row we haev 1155838 number of rows in dataset\n"
     ]
    }
   ],
   "source": [
    "print(\"After removing duplicate row we haev {} number of rows in dataset\".\n",
    "      format(data.shape[0]))"
   ]
  },
  {
   "cell_type": "markdown",
   "metadata": {
    "colab_type": "text",
    "id": "Wug0G1uWUXon"
   },
   "source": [
    "# Pre-process data"
   ]
  },
  {
   "cell_type": "code",
   "execution_count": 12,
   "metadata": {
    "colab": {},
    "colab_type": "code",
    "id": "NwudGcNjUN9V"
   },
   "outputs": [],
   "source": [
    "def process_text(text):\n",
    "  \"\"\" \n",
    "    this method will process text by performing follwing operations\n",
    "    1. convert text into lower \n",
    "    2. remove special characters\n",
    "    3. remove stop words \n",
    "    4. stemming word\n",
    "  \n",
    "    Parameters: \n",
    "    arg1 (text): string\n",
    "  \n",
    "    Returns: \n",
    "    list: processed words\n",
    "  \n",
    "    \"\"\"\n",
    "  #convert text into lower case\n",
    "  text = text.lower()\n",
    "\n",
    "  #remove special characters\n",
    "  # re.sub will replace all character with '' except a-z and 0-9\n",
    "  text = re.sub('[^a-z0-9 ]+', '', text) \n",
    "\n",
    "  #remove stop words\n",
    "  word_tokens = word_tokenize(text) #convert sentence into words\n",
    "  \n",
    "  processed_text = [porter.stem(word) for word in word_tokens\n",
    "                    if not word in stop_words] \n",
    "\n",
    "  \n",
    "  processed_text = \" \".join(processed_text)\n",
    "  \n",
    "  return processed_text\n",
    "\n"
   ]
  },
  {
   "cell_type": "code",
   "execution_count": 13,
   "metadata": {
    "colab": {},
    "colab_type": "code",
    "id": "1R2PTwPscXOW"
   },
   "outputs": [],
   "source": [
    "data['processed_headline_text'] = data['headline_text'].apply(process_text)"
   ]
  },
  {
   "cell_type": "code",
   "execution_count": 14,
   "metadata": {
    "colab": {
     "base_uri": "https://localhost:8080/",
     "height": 206
    },
    "colab_type": "code",
    "id": "sHG7wWo_eHJO",
    "outputId": "8efe21de-7847-4dbd-856e-122bcc24eaf3"
   },
   "outputs": [
    {
     "data": {
      "text/html": [
       "<div>\n",
       "<style scoped>\n",
       "    .dataframe tbody tr th:only-of-type {\n",
       "        vertical-align: middle;\n",
       "    }\n",
       "\n",
       "    .dataframe tbody tr th {\n",
       "        vertical-align: top;\n",
       "    }\n",
       "\n",
       "    .dataframe thead th {\n",
       "        text-align: right;\n",
       "    }\n",
       "</style>\n",
       "<table border=\"1\" class=\"dataframe\">\n",
       "  <thead>\n",
       "    <tr style=\"text-align: right;\">\n",
       "      <th></th>\n",
       "      <th>headline_text</th>\n",
       "      <th>processed_headline_text</th>\n",
       "    </tr>\n",
       "  </thead>\n",
       "  <tbody>\n",
       "    <tr>\n",
       "      <td>0</td>\n",
       "      <td>aba decides against community broadcasting lic...</td>\n",
       "      <td>aba decid commun broadcast licenc</td>\n",
       "    </tr>\n",
       "    <tr>\n",
       "      <td>1</td>\n",
       "      <td>act fire witnesses must be aware of defamation</td>\n",
       "      <td>act fire wit must awar defam</td>\n",
       "    </tr>\n",
       "    <tr>\n",
       "      <td>2</td>\n",
       "      <td>a g calls for infrastructure protection summit</td>\n",
       "      <td>g call infrastructur protect summit</td>\n",
       "    </tr>\n",
       "    <tr>\n",
       "      <td>3</td>\n",
       "      <td>air nz staff in aust strike for pay rise</td>\n",
       "      <td>air nz staff aust strike pay rise</td>\n",
       "    </tr>\n",
       "    <tr>\n",
       "      <td>4</td>\n",
       "      <td>air nz strike to affect australian travellers</td>\n",
       "      <td>air nz strike affect australian travel</td>\n",
       "    </tr>\n",
       "  </tbody>\n",
       "</table>\n",
       "</div>"
      ],
      "text/plain": [
       "                                       headline_text  \\\n",
       "0  aba decides against community broadcasting lic...   \n",
       "1     act fire witnesses must be aware of defamation   \n",
       "2     a g calls for infrastructure protection summit   \n",
       "3           air nz staff in aust strike for pay rise   \n",
       "4      air nz strike to affect australian travellers   \n",
       "\n",
       "                  processed_headline_text  \n",
       "0       aba decid commun broadcast licenc  \n",
       "1            act fire wit must awar defam  \n",
       "2     g call infrastructur protect summit  \n",
       "3       air nz staff aust strike pay rise  \n",
       "4  air nz strike affect australian travel  "
      ]
     },
     "execution_count": 14,
     "metadata": {},
     "output_type": "execute_result"
    }
   ],
   "source": [
    "data.head()"
   ]
  },
  {
   "cell_type": "markdown",
   "metadata": {
    "colab_type": "text",
    "id": "CPmPtYv54naA"
   },
   "source": [
    "**The LDA topic model algorithm requires a document word matrix as the main input.**<br>\n",
    "* **A document-word matrix is a mathematical matrix that describes the frequency<br> of word that occur in a documents. In a document-word matrix, rows correspond<br> to documents and columns correspond to words**"
   ]
  },
  {
   "cell_type": "markdown",
   "metadata": {
    "colab_type": "text",
    "id": "FNXq85wJ9nYj"
   },
   "source": [
    "* **To create document-word matrix we use Countvectorizer**"
   ]
  },
  {
   "cell_type": "code",
   "execution_count": 15,
   "metadata": {
    "colab": {},
    "colab_type": "code",
    "id": "HuW4WWre4Rc4"
   },
   "outputs": [],
   "source": [
    "# min_df : ignore words that have a document frequency strictly lower than the given min_df value\n",
    "#lowercase: we specify lowercase = False as we already done in per-processing\n",
    "# max_df : ignore words that have a document frequency strictly higer than the given max_df value\n",
    "vectorizer = CountVectorizer(min_df=15,max_df=0.5,lowercase=False) #initialize CountVectorizer\n"
   ]
  },
  {
   "cell_type": "code",
   "execution_count": 16,
   "metadata": {
    "colab": {},
    "colab_type": "code",
    "id": "OGMNtv_64RZs"
   },
   "outputs": [],
   "source": [
    "#apply countvectorizer to our data\n",
    "vectorizer = vectorizer.fit(data['processed_headline_text'])\n",
    "vectorize_data = vectorizer.transform(data['processed_headline_text'])"
   ]
  },
  {
   "cell_type": "markdown",
   "metadata": {
    "colab_type": "text",
    "id": "H9ae7kmWNI1_"
   },
   "source": [
    "# Build LDA model "
   ]
  },
  {
   "cell_type": "code",
   "execution_count": 17,
   "metadata": {
    "colab": {},
    "colab_type": "code",
    "id": "Vv-MQVco4RQq"
   },
   "outputs": [],
   "source": [
    "# learning_methon = online, is faster\n",
    "lda_model = LatentDirichletAllocation(n_components=8,          # Number of topics\n",
    "                                      max_iter=5,              # Max learning iterations\n",
    "                                      learning_method='online',   \n",
    "                                      random_state=100,          # Random state\n",
    "                                      batch_size=128,  # number of docs in each learning iter        \n",
    "                                     )"
   ]
  },
  {
   "cell_type": "code",
   "execution_count": 18,
   "metadata": {
    "colab": {},
    "colab_type": "code",
    "id": "67Unb716N9HG"
   },
   "outputs": [],
   "source": [
    "# we also calculate time to fit/train model\n",
    "start = time.time()\n",
    "lda_output = lda_model.fit_transform(vectorize_data)\n",
    "end = time.time()"
   ]
  },
  {
   "cell_type": "code",
   "execution_count": 19,
   "metadata": {
    "colab": {
     "base_uri": "https://localhost:8080/",
     "height": 34
    },
    "colab_type": "code",
    "id": "iETBq7dwijXc",
    "outputId": "1a418222-e384-4014-d2ec-027b9979934d"
   },
   "outputs": [
    {
     "name": "stdout",
     "output_type": "stream",
     "text": [
      "total time to train model 10.332113440831503 minutes\n"
     ]
    }
   ],
   "source": [
    "print(\"total time to train model {} minutes\".format((end-start)/60))"
   ]
  },
  {
   "cell_type": "code",
   "execution_count": 20,
   "metadata": {
    "colab": {
     "base_uri": "https://localhost:8080/",
     "height": 52
    },
    "colab_type": "code",
    "id": "JRwx2ssnOV7q",
    "outputId": "b3f8ad76-d6db-4b7c-fbd6-6d217754168f"
   },
   "outputs": [
    {
     "name": "stdout",
     "output_type": "stream",
     "text": [
      "Log Likelihood:  -52379678.42748524\n",
      "Perplexity:  5398.562374893334\n"
     ]
    }
   ],
   "source": [
    "# Log Likelyhood: Higher the better\n",
    "print(\"Log Likelihood: \", lda_model.score(vectorize_data))\n",
    "\n",
    "# Perplexity: Lower the better.\n",
    "# Perplexity = exp(-1. * log-likelihood per word)\n",
    "print(\"Perplexity: \", lda_model.perplexity(vectorize_data))"
   ]
  },
  {
   "cell_type": "markdown",
   "metadata": {
    "colab_type": "text",
    "id": "tfBMAbGw5RNy"
   },
   "source": [
    "# Check dominant topics in each document"
   ]
  },
  {
   "cell_type": "code",
   "execution_count": 21,
   "metadata": {
    "colab": {
     "base_uri": "https://localhost:8080/",
     "height": 416
    },
    "colab_type": "code",
    "id": "tXBKSDi35kM3",
    "outputId": "daef8483-3136-48c7-a058-18c406c41cbc"
   },
   "outputs": [
    {
     "name": "stdout",
     "output_type": "stream",
     "text": [
      "       Topic_0  Topic_1  Topic_2  Topic_3  Topic_4  Topic_5  Topic_6  Topic_7  \\\n",
      "Doc_0     0.02     0.02     0.02     0.02     0.19     0.69     0.02     0.02   \n",
      "Doc_1     0.02     0.02     0.87     0.02     0.02     0.02     0.02     0.02   \n",
      "Doc_2     0.03     0.22     0.03     0.23     0.03     0.42     0.03     0.03   \n",
      "Doc_3     0.77     0.14     0.02     0.02     0.02     0.02     0.02     0.02   \n",
      "Doc_4     0.87     0.02     0.02     0.02     0.02     0.02     0.02     0.02   \n",
      "Doc_5     0.03     0.03     0.03     0.03     0.03     0.62     0.23     0.03   \n",
      "Doc_6     0.02     0.02     0.02     0.02     0.02     0.02     0.02     0.85   \n",
      "Doc_7     0.75     0.02     0.15     0.02     0.02     0.02     0.02     0.02   \n",
      "Doc_8     0.02     0.59     0.02     0.30     0.02     0.02     0.02     0.02   \n",
      "Doc_9     0.02     0.19     0.02     0.02     0.52     0.19     0.02     0.02   \n",
      "\n",
      "       dominant_topic  \n",
      "Doc_0               5  \n",
      "Doc_1               2  \n",
      "Doc_2               5  \n",
      "Doc_3               0  \n",
      "Doc_4               0  \n",
      "Doc_5               5  \n",
      "Doc_6               7  \n",
      "Doc_7               0  \n",
      "Doc_8               1  \n",
      "Doc_9               4  \n"
     ]
    }
   ],
   "source": [
    "# make topic name as column\n",
    "# giving topic name as Topic_0,Topic_1,...,Topic_7\n",
    "\n",
    "topic_names = [\"Topic_\" + str(i) for i in range(lda_model.n_components)]\n",
    "\n",
    "#create index as Doc_0,Doc_1...\n",
    "document_names = [\"Doc_\" + str(i) for i in range(len(data))]\n",
    "\n",
    "\n",
    "# create the pandas dataframe\n",
    "# columns = topic_names\n",
    "# index = document_names\n",
    "# we are rounding lda output upto 2 precision for better visibility \n",
    "dataframe_topic = pd.DataFrame(np.round(lda_output, 2),\n",
    "                               columns=topic_names,\n",
    "                               index=document_names)\n",
    "\n",
    "\n",
    "# create new column dominant_topic\n",
    "# for this we take argmax which will return index of column which has higest value\n",
    "# here column is topics\n",
    "dominant_topic = np.argmax(dataframe_topic.values, axis=1)\n",
    "dataframe_topic['dominant_topic'] = dominant_topic\n",
    "\n",
    "print(dataframe_topic.head(10))\n"
   ]
  },
  {
   "cell_type": "markdown",
   "metadata": {
    "colab_type": "text",
    "id": "TTIEoqF1_ejT"
   },
   "source": [
    "* **Here we can see that doc_0 has topic 5 as dominant topic with 0.69 weight and so on...**"
   ]
  },
  {
   "cell_type": "markdown",
   "metadata": {
    "colab_type": "text",
    "id": "5Fm8MIq_7d3X"
   },
   "source": [
    "# check distribution of topic in whole data"
   ]
  },
  {
   "cell_type": "code",
   "execution_count": 22,
   "metadata": {
    "colab": {
     "base_uri": "https://localhost:8080/",
     "height": 173
    },
    "colab_type": "code",
    "id": "crrrlTu27jfC",
    "outputId": "dc30f468-f237-4b95-915c-9c8ec6e760f7"
   },
   "outputs": [
    {
     "name": "stdout",
     "output_type": "stream",
     "text": [
      "0    256113\n",
      "1    161226\n",
      "2    157903\n",
      "3    136856\n",
      "4    126112\n",
      "5    117001\n",
      "6    101477\n",
      "7     99150\n",
      "Name: dominant_topic, dtype: int64\n"
     ]
    }
   ],
   "source": [
    "# for printing topic distribution \n",
    "# we use value counts on dominant_topic column which return number of document for each topic\n",
    "\n",
    "\n",
    "topic_distribution = dataframe_topic['dominant_topic'].value_counts()\n",
    "\n",
    "print(topic_distribution)"
   ]
  },
  {
   "cell_type": "markdown",
   "metadata": {
    "colab_type": "text",
    "id": "1-wr858XAhzg"
   },
   "source": [
    "* **here we can see distribution of topics<br>256112 documents belongs to topic_0<br>161226 documents belongs to topic_1 <br>and so on**"
   ]
  },
  {
   "cell_type": "markdown",
   "metadata": {
    "colab_type": "text",
    "id": "2izTe_cy81oY"
   },
   "source": [
    "# Predict topic for new documnet"
   ]
  },
  {
   "cell_type": "code",
   "execution_count": 23,
   "metadata": {
    "colab": {},
    "colab_type": "code",
    "id": "pJ9_aXN881Tj"
   },
   "outputs": [],
   "source": [
    "new_text = \"christmas is detention centre no go claims quashed\"\n",
    "\n",
    "preprocessed_text = process_text(new_text) # process\n",
    "vectorize_text = vectorizer.transform([preprocessed_text]) #convert into vector\n",
    "\n",
    "prediction = lda_model.transform(vectorize_text) #will return weight for each topic"
   ]
  },
  {
   "cell_type": "code",
   "execution_count": 24,
   "metadata": {
    "colab": {
     "base_uri": "https://localhost:8080/",
     "height": 156
    },
    "colab_type": "code",
    "id": "c5FsbVlo9eRl",
    "outputId": "3de3152d-890e-41fe-eb91-a9be3783a0fa"
   },
   "outputs": [
    {
     "name": "stdout",
     "output_type": "stream",
     "text": [
      "Topic_0 * 0.01785714288042186\n",
      "Topic_1 * 0.017857142884852902\n",
      "Topic_2 * 0.4463937999316188\n",
      "Topic_3 * 0.017857142883393556\n",
      "Topic_4 * 0.017891749086458606\n",
      "Topic_5 * 0.017857142881110545\n",
      "Topic_6 * 0.16071432768456242\n",
      "Topic_7 * 0.3035715517675813\n"
     ]
    }
   ],
   "source": [
    "for index,weight in enumerate(prediction[0]):\n",
    "  print('Topic_{} * {}'.format(index,weight))"
   ]
  },
  {
   "cell_type": "markdown",
   "metadata": {
    "colab_type": "text",
    "id": "IVaxBhbaCokr"
   },
   "source": [
    "* **Here max weight for topic_2 so dominant topic is topic_2**"
   ]
  },
  {
   "cell_type": "markdown",
   "metadata": {
    "colab_type": "text",
    "id": "2XmJLkBC9e-E"
   },
   "source": [
    "# Save model"
   ]
  },
  {
   "cell_type": "code",
   "execution_count": 25,
   "metadata": {
    "colab": {},
    "colab_type": "code",
    "id": "FcEyBLzC9iUF"
   },
   "outputs": [],
   "source": [
    "#save models\n",
    "import pickle\n",
    "\n",
    "pickle.dump(vectorizer, open(\"D:/7085/cw1/Countvectorizer.pickle\", \"wb\"))\n",
    "\n",
    "pickle.dump(lda_model, open(\"D:/7085/cw1/LDA.pickle\", \"wb\"))"
   ]
  },
  {
   "cell_type": "markdown",
   "metadata": {
    "colab_type": "text",
    "id": "O83C244tqGfm"
   },
   "source": [
    "**perplexity might not be the best measurement to evaluate topic models As it doesn’t consider the context and semantic associations between words. fot this we have to use topic coherence**\n",
    "**Sklearn doesn't support topic coherence and it is taking too much time. so we decide to move on gensim library with 50% dataset**"
   ]
  },
  {
   "cell_type": "markdown",
   "metadata": {
    "colab_type": "text",
    "id": "FGWTqmkJWiFu"
   },
   "source": [
    "# Gensim"
   ]
  },
  {
   "cell_type": "markdown",
   "metadata": {
    "colab_type": "text",
    "id": "3ObDk1gHqyZ0"
   },
   "source": [
    "**For gensim we have to convert our processed text into list of tokens**"
   ]
  },
  {
   "cell_type": "code",
   "execution_count": 26,
   "metadata": {
    "colab": {},
    "colab_type": "code",
    "id": "pdnv3xp2t1KI"
   },
   "outputs": [],
   "source": [
    "#for tokenize word we simply split processed text at space\n",
    "data['tokenize_text'] = data['processed_headline_text'].apply(lambda t : t.split(\" \"))"
   ]
  },
  {
   "cell_type": "code",
   "execution_count": 27,
   "metadata": {
    "colab": {},
    "colab_type": "code",
    "id": "piFFYa0WzOEn"
   },
   "outputs": [],
   "source": [
    "data_50 = data.sample(frac=0.5)"
   ]
  },
  {
   "cell_type": "code",
   "execution_count": 28,
   "metadata": {
    "colab": {
     "base_uri": "https://localhost:8080/",
     "height": 34
    },
    "colab_type": "code",
    "id": "cRvsMzapztyg",
    "outputId": "ea1e3a93-842e-418e-81e1-647c85c666ba"
   },
   "outputs": [
    {
     "data": {
      "text/plain": [
       "(577919, 3)"
      ]
     },
     "execution_count": 28,
     "metadata": {},
     "output_type": "execute_result"
    }
   ],
   "source": [
    "data_50.shape"
   ]
  },
  {
   "cell_type": "markdown",
   "metadata": {
    "colab_type": "text",
    "id": "AMrHCowLr8Xi"
   },
   "source": [
    "**We need dictionary and corpus for topic modeling using gensim**"
   ]
  },
  {
   "cell_type": "code",
   "execution_count": 29,
   "metadata": {
    "colab": {},
    "colab_type": "code",
    "id": "6V35khnTrnwA"
   },
   "outputs": [],
   "source": [
    "# Create Dictionary\n",
    "id_to_word = corpora.Dictionary(data_50['tokenize_text'])\n",
    "\n",
    "# Create Corpus\n",
    "texts = data_50['tokenize_text']\n",
    "\n",
    "# Term Document Frequency\n",
    "corpus = [id_to_word.doc2bow(text) for text in texts]"
   ]
  },
  {
   "cell_type": "code",
   "execution_count": 30,
   "metadata": {
    "colab": {
     "base_uri": "https://localhost:8080/",
     "height": 34
    },
    "colab_type": "code",
    "id": "GSMWp3ydsqQP",
    "outputId": "dd503720-60cf-45f0-e945-1a70fa50db78"
   },
   "outputs": [
    {
     "name": "stdout",
     "output_type": "stream",
     "text": [
      "[[(0, 1), (1, 1), (2, 1), (3, 1), (4, 1)], [(5, 1), (6, 1), (7, 1), (8, 1)]]\n"
     ]
    }
   ],
   "source": [
    "print(corpus[:2])"
   ]
  },
  {
   "cell_type": "markdown",
   "metadata": {
    "colab_type": "text",
    "id": "zfMIZfDFtDaf"
   },
   "source": [
    "**gensim will create unique id for each word**"
   ]
  },
  {
   "cell_type": "markdown",
   "metadata": {
    "colab_type": "text",
    "id": "K1pGuHbJtioW"
   },
   "source": [
    "**We can print word cooresponding each id using id_to_word**"
   ]
  },
  {
   "cell_type": "code",
   "execution_count": 31,
   "metadata": {
    "colab": {
     "base_uri": "https://localhost:8080/",
     "height": 34
    },
    "colab_type": "code",
    "id": "V_rCSrZvs4V_",
    "outputId": "248d02b3-5e24-4c33-8c76-82c52eaf3353"
   },
   "outputs": [
    {
     "name": "stdout",
     "output_type": "stream",
     "text": [
      "tiger\n"
     ]
    }
   ],
   "source": [
    "print(id_to_word[4])"
   ]
  },
  {
   "cell_type": "markdown",
   "metadata": {
    "colab_type": "text",
    "id": "hhgqKPBst2Vo"
   },
   "source": [
    "# Build LDA using Gensim"
   ]
  },
  {
   "cell_type": "code",
   "execution_count": 32,
   "metadata": {
    "colab": {},
    "colab_type": "code",
    "id": "LStCOBzhtgIr"
   },
   "outputs": [],
   "source": [
    "# Build LDA model\n",
    "#chunksize :  number of document use in each training iteration\n",
    "#passes : number of passes/iteration for training\n",
    "# num_topics : number of topics for topic modeling\n",
    "# here alpha and eta are hyper parameter which affect sparsity of model we are leaving them default value\n",
    "\n",
    "start_gensim_lda = time.time()\n",
    "lda_model = gensim.models.ldamodel.LdaModel(corpus=corpus,\n",
    "                                           id2word=id_to_word,\n",
    "                                           num_topics=10, \n",
    "                                           random_state=100,\n",
    "                                           update_every=1,\n",
    "                                           chunksize=10000, # number of document use in each training iteration\n",
    "                                           passes=10,\n",
    "                                           per_word_topics=True)\n",
    "end_gensim_lda = time.time()"
   ]
  },
  {
   "cell_type": "code",
   "execution_count": 33,
   "metadata": {
    "colab": {
     "base_uri": "https://localhost:8080/",
     "height": 34
    },
    "colab_type": "code",
    "id": "r-TrnbT_vO-V",
    "outputId": "bf3fe633-3bdf-450d-8c91-633ccac572eb"
   },
   "outputs": [
    {
     "name": "stdout",
     "output_type": "stream",
     "text": [
      "time to buld one LDA model using gensim : 12.27612022558848 minutes\n"
     ]
    }
   ],
   "source": [
    "print(\"time to buld one LDA model using gensim : {} minutes\".\n",
    "      format((end_gensim_lda-start_gensim_lda)/60))"
   ]
  },
  {
   "cell_type": "markdown",
   "metadata": {
    "colab_type": "text",
    "id": "Zmy_AQvQ5En_"
   },
   "source": [
    "**we can print the keywords for each topic and the weightage(of each keyword using lda_model.print_topics()**"
   ]
  },
  {
   "cell_type": "code",
   "execution_count": 34,
   "metadata": {
    "colab": {
     "base_uri": "https://localhost:8080/",
     "height": 712
    },
    "colab_type": "code",
    "id": "_ynBLXhmv7iY",
    "outputId": "f1eac042-d692-4ca7-eb60-4e4ed2f851a0"
   },
   "outputs": [
    {
     "name": "stdout",
     "output_type": "stream",
     "text": [
      "[(0,\n",
      "  '0.037*\"fire\" + 0.024*\"hous\" + 0.014*\"interview\" + 0.011*\"warn\" + '\n",
      "  '0.010*\"action\" + 0.010*\"cost\" + 0.010*\"bushfir\" + 0.009*\"return\" + '\n",
      "  '0.009*\"home\" + 0.008*\"green\"'),\n",
      " (1,\n",
      "  '0.022*\"council\" + 0.020*\"plan\" + 0.017*\"govt\" + 0.016*\"urg\" + 0.014*\"fund\" '\n",
      "  '+ 0.013*\"health\" + 0.013*\"mine\" + 0.013*\"water\" + 0.010*\"group\" + '\n",
      "  '0.010*\"new\"'),\n",
      " (2,\n",
      "  '0.031*\"report\" + 0.021*\"elect\" + 0.016*\"labor\" + 0.014*\"pm\" + 0.013*\"say\" + '\n",
      "  '0.013*\"state\" + 0.012*\"pay\" + 0.009*\"mp\" + 0.009*\"sign\" + 0.009*\"one\"'),\n",
      " (3,\n",
      "  '0.046*\"polic\" + 0.037*\"man\" + 0.025*\"charg\" + 0.022*\"court\" + 0.018*\"death\" '\n",
      "  '+ 0.016*\"crash\" + 0.016*\"kill\" + 0.015*\"murder\" + 0.014*\"attack\" + '\n",
      "  '0.012*\"miss\"'),\n",
      " (4,\n",
      "  '0.016*\"set\" + 0.016*\"rise\" + 0.015*\"coast\" + 0.013*\"price\" + 0.013*\"market\" '\n",
      "  '+ 0.013*\"record\" + 0.012*\"rate\" + 0.011*\"gold\" + 0.010*\"farmer\" + '\n",
      "  '0.010*\"west\"'),\n",
      " (5,\n",
      "  '0.025*\"nsw\" + 0.022*\"qld\" + 0.019*\"hit\" + 0.018*\"sa\" + 0.016*\"flood\" + '\n",
      "  '0.012*\"rural\" + 0.011*\"opposit\" + 0.010*\"region\" + 0.010*\"countri\" + '\n",
      "  '0.009*\"vote\"'),\n",
      " (6,\n",
      "  '0.025*\"win\" + 0.025*\"australia\" + 0.020*\"year\" + 0.015*\"world\" + '\n",
      "  '0.014*\"test\" + 0.013*\"open\" + 0.013*\"day\" + 0.012*\"first\" + 0.012*\"cup\" + '\n",
      "  '0.011*\"lead\"'),\n",
      " (7,\n",
      "  '0.016*\"child\" + 0.013*\"go\" + 0.012*\"appeal\" + 0.012*\"sentenc\" + '\n",
      "  '0.011*\"abus\" + 0.011*\"sex\" + 0.010*\"ahead\" + 0.009*\"unit\" + 0.009*\"give\" + '\n",
      "  '0.009*\"show\"'),\n",
      " (8,\n",
      "  '0.036*\"us\" + 0.012*\"protest\" + 0.012*\"china\" + 0.012*\"close\" + 0.011*\"iraq\" '\n",
      "  '+ 0.009*\"war\" + 0.008*\"famili\" + 0.008*\"un\" + 0.008*\"secur\" + 0.007*\"say\"'),\n",
      " (9,\n",
      "  '0.018*\"school\" + 0.016*\"minist\" + 0.014*\"new\" + 0.014*\"concern\" + '\n",
      "  '0.013*\"indigen\" + 0.011*\"park\" + 0.010*\"back\" + 0.010*\"work\" + '\n",
      "  '0.010*\"trade\" + 0.010*\"centr\"')]\n"
     ]
    }
   ],
   "source": [
    "pprint(lda_model.print_topics())\n"
   ]
  },
  {
   "cell_type": "markdown",
   "metadata": {
    "colab_type": "text",
    "id": "gY1Znr7b521r"
   },
   "source": [
    "**This can be interpreted this<br> (0,\n",
    "  '0.031*\"us\" + 0.011*\"centr\" + 0.011*\"china\" + 0.010*\"iraq\" + 0.010*\"reject\" '\n",
    "  '+ 0.010*\"health\" + 0.009*\"open\" + 0.009*\"question\" + 0.008*\"trade\" + '\n",
    "  '0.007*\"bid\"') as ushas0.031 weitage for topic 0**"
   ]
  },
  {
   "cell_type": "code",
   "execution_count": 35,
   "metadata": {
    "colab": {
     "base_uri": "https://localhost:8080/",
     "height": 86
    },
    "colab_type": "code",
    "id": "5FIRyq1n5eDV",
    "outputId": "2ca57549-bc5a-40d0-e133-c45fb981b155"
   },
   "outputs": [
    {
     "name": "stdout",
     "output_type": "stream",
     "text": [
      "\n",
      "Perplexity:  -9.170455396729613\n",
      "\n",
      "Coherence Score:  0.23897145250933116\n"
     ]
    }
   ],
   "source": [
    "# Compute Perplexity\n",
    "# a measure of how good the model is. lower the better.\n",
    "print('\\nPerplexity: ', lda_model.log_perplexity(corpus))  \n",
    "\n",
    "# Compute Coherence Score\n",
    "coherence_model_lda = CoherenceModel(model=lda_model, texts=data_50['tokenize_text'], dictionary=id_to_word, coherence='c_v')\n",
    "coherence_lda = coherence_model_lda.get_coherence()\n",
    "print('\\nCoherence Score: ', coherence_lda)"
   ]
  },
  {
   "cell_type": "markdown",
   "metadata": {
    "colab_type": "text",
    "id": "cz_pseMZ7TOz"
   },
   "source": [
    "**Gensim has LDA Mallet Model wich is mallet's version of LDA which often give better accuracy Let try that..**"
   ]
  },
  {
   "cell_type": "code",
   "execution_count": 43,
   "metadata": {
    "colab": {
     "base_uri": "https://localhost:8080/",
     "height": 208
    },
    "colab_type": "code",
    "id": "brnZtuiN6eEy",
    "outputId": "0d81fc38-3e5e-4d7a-91e0-87c5635d6f26"
   },
   "outputs": [],
   "source": [
    "# for this first we have to donwnloadd zip file unzip and provide it into mallet_path\n",
    "# file url: http://mallet.cs.umass.edu/dist/mallet-2.0.8.zipcurl http://mallet.cs.umass.edu/dist/mallet-2.0.8.zip"
   ]
  },
  {
   "cell_type": "code",
   "execution_count": 44,
   "metadata": {
    "colab": {},
    "colab_type": "code",
    "id": "J94VuXDT7-uK",
    "scrolled": true
   },
   "outputs": [],
   "source": [
    "#unzip fileunzip /content/mallet-2.0.8.zip"
   ]
  },
  {
   "cell_type": "code",
   "execution_count": 57,
   "metadata": {
    "colab": {
     "base_uri": "https://localhost:8080/",
     "height": 72
    },
    "colab_type": "code",
    "id": "gGTt1my98FCG",
    "outputId": "dc233337-6429-45e3-c250-6d7b2531f957"
   },
   "outputs": [],
   "source": [
    "import os\n",
    "os.environ.update({'MALLET_HOME':r'D:/7085/mallet/'})\n",
    "\n",
    "mallet_path = r'D:\\7085\\mallet\\bin\\mallet'\n",
    "\n",
    "start_mallet_lda = time.time()\n",
    "\n",
    "lda_mallet = gensim.models.wrappers.LdaMallet(mallet_path, corpus=corpus, num_topics=10, id2word=id_to_word)\n",
    "\n",
    "end_mallet_lda = time.time()"
   ]
  },
  {
   "cell_type": "code",
   "execution_count": 58,
   "metadata": {
    "colab": {
     "base_uri": "https://localhost:8080/",
     "height": 34
    },
    "colab_type": "code",
    "id": "KBbjsZpj8dvy",
    "outputId": "547cf9cf-ae7a-4d7d-d4e6-17acd664af4c"
   },
   "outputs": [
    {
     "name": "stdout",
     "output_type": "stream",
     "text": [
      "time to build one lda_mallet is 3.6476932485898335 minutes\n"
     ]
    }
   ],
   "source": [
    "print(\"time to build one lda_mallet is {} minutes\".format((end_mallet_lda-start_mallet_lda)/60))"
   ]
  },
  {
   "cell_type": "code",
   "execution_count": 59,
   "metadata": {
    "colab": {
     "base_uri": "https://localhost:8080/",
     "height": 1000
    },
    "colab_type": "code",
    "id": "m7ey_YYD806h",
    "outputId": "31824cf6-895a-4f38-9a0b-eecdbe9a42f0"
   },
   "outputs": [
    {
     "name": "stdout",
     "output_type": "stream",
     "text": [
      "[(0,\n",
      "  [('nsw', 0.023241644645864423),\n",
      "   ('year', 0.021588373016416338),\n",
      "   ('world', 0.01735421772526254),\n",
      "   ('qld', 0.014557689937976641),\n",
      "   ('flood', 0.014355737502909484),\n",
      "   ('cup', 0.013544504840012597),\n",
      "   ('record', 0.012849651546476444),\n",
      "   ('time', 0.011408601119980284),\n",
      "   ('queensland', 0.011145036077604501),\n",
      "   ('end', 0.010207155277462108)]),\n",
      " (1,\n",
      "  [('win', 0.028963869811884143),\n",
      "   ('open', 0.01868073984855449),\n",
      "   ('back', 0.016724764393865686),\n",
      "   ('final', 0.014134690549920989),\n",
      "   ('protest', 0.013668343057293642),\n",
      "   ('lead', 0.012366596099456152),\n",
      "   ('aussi', 0.009441020462254372),\n",
      "   ('top', 0.008706271535021355),\n",
      "   ('hold', 0.008112433360956314),\n",
      "   ('play', 0.007958102536058055)]),\n",
      " (2,\n",
      "  [('kill', 0.026268964861524254),\n",
      "   ('crash', 0.023199271966640858),\n",
      "   ('attack', 0.021504828654089075),\n",
      "   ('sydney', 0.020998872634910286),\n",
      "   ('car', 0.017304374991510805),\n",
      "   ('home', 0.017161756516306047),\n",
      "   ('die', 0.01620417532564552),\n",
      "   ('road', 0.014190538282873559),\n",
      "   ('hit', 0.013144669464705322),\n",
      "   ('melbourn', 0.012750770818901701)]),\n",
      " (3,\n",
      "  [('australia', 0.02920074959647635),\n",
      "   ('australian', 0.02424903564686893),\n",
      "   ('day', 0.01791576614778541),\n",
      "   ('test', 0.015077421825841928),\n",
      "   ('make', 0.013521461986704238),\n",
      "   ('return', 0.012047574754466118),\n",
      "   ('famili', 0.010587366290044593),\n",
      "   ('show', 0.010043635269334938),\n",
      "   ('releas', 0.00920239104861434),\n",
      "   ('women', 0.008727053866987662)]),\n",
      " (4,\n",
      "  [('warn', 0.02231300012765643),\n",
      "   ('report', 0.021315264349590492),\n",
      "   ('fire', 0.020330966090421065),\n",
      "   ('health', 0.018516901039392086),\n",
      "   ('hospit', 0.01711603969443082),\n",
      "   ('farmer', 0.01499291170878209),\n",
      "   ('south', 0.014989552329057963),\n",
      "   ('servic', 0.01444533281374927),\n",
      "   ('north', 0.013581972224648442),\n",
      "   ('concern', 0.013340096884511245)]),\n",
      " (5,\n",
      "  [('coast', 0.015576227815623563),\n",
      "   ('ban', 0.013535299484794226),\n",
      "   ('work', 0.013151124740167528),\n",
      "   ('fight', 0.012996768815987157),\n",
      "   ('nt', 0.01233132327618734),\n",
      "   ('centr', 0.012118655113983275),\n",
      "   ('indigen', 0.011861395240349324),\n",
      "   ('gold', 0.011309144044948444),\n",
      "   ('commun', 0.01100729245988461),\n",
      "   ('park', 0.0104138796847023)]),\n",
      " (6,\n",
      "  [('govt', 0.02930399309331277),\n",
      "   ('call', 0.028097958968478352),\n",
      "   ('council', 0.024008646539736517),\n",
      "   ('urg', 0.022588426026611836),\n",
      "   ('fund', 0.022417076915979623),\n",
      "   ('plan', 0.019668900795455295),\n",
      "   ('chang', 0.019639244218615105),\n",
      "   ('elect', 0.017052531683109592),\n",
      "   ('govern', 0.01589592518634216),\n",
      "   ('mp', 0.014340602489834384)]),\n",
      " (7,\n",
      "  [('water', 0.02204388087094352),\n",
      "   ('mine', 0.018563443730708267),\n",
      "   ('plan', 0.018226411946275133),\n",
      "   ('hous', 0.017191957954450655),\n",
      "   ('cut', 0.016104112788854593),\n",
      "   ('rise', 0.015403353633102529),\n",
      "   ('boost', 0.014782681238007842),\n",
      "   ('job', 0.014358888796195879),\n",
      "   ('price', 0.013738216401101193),\n",
      "   ('market', 0.013548010344539918)]),\n",
      " (8,\n",
      "  [('polic', 0.06044007445329411),\n",
      "   ('man', 0.048597871564841785),\n",
      "   ('charg', 0.03213298364801786),\n",
      "   ('court', 0.028613549338210864),\n",
      "   ('death', 0.02327149322726642),\n",
      "   ('face', 0.022474701041636423),\n",
      "   ('murder', 0.019235918230411656),\n",
      "   ('jail', 0.017574590393976637),\n",
      "   ('miss', 0.016377789175884616),\n",
      "   ('accus', 0.01621326933188814)]),\n",
      " (9,\n",
      "  [('claim', 0.01818151044311296),\n",
      "   ('school', 0.016648048475000846),\n",
      "   ('minist', 0.014745607799329746),\n",
      "   ('talk', 0.01407535289936021),\n",
      "   ('worker', 0.013455874885752006),\n",
      "   ('deal', 0.012524965302460986),\n",
      "   ('meet', 0.01188517653430825),\n",
      "   ('china', 0.011783622761585594),\n",
      "   ('pm', 0.011604211096442232),\n",
      "   ('interview', 0.01116752987373481)])]\n"
     ]
    }
   ],
   "source": [
    "# Show Topics\n",
    "pprint(lda_mallet.show_topics(formatted=False))\n"
   ]
  },
  {
   "cell_type": "code",
   "execution_count": 60,
   "metadata": {
    "colab": {
     "base_uri": "https://localhost:8080/",
     "height": 52
    },
    "colab_type": "code",
    "id": "lHD7U_OF9fOR",
    "outputId": "f4836b1b-099b-44a3-b7b5-f822d15bf0ce"
   },
   "outputs": [
    {
     "name": "stdout",
     "output_type": "stream",
     "text": [
      "\n",
      "Coherence Score:  0.23954215008993626\n"
     ]
    }
   ],
   "source": [
    "# Compute Coherence Score\n",
    "coherence_model_lda_mallet = CoherenceModel(model=lda_mallet, texts=data_50['tokenize_text'], dictionary=id_to_word, coherence='c_v')\n",
    "\n",
    "coherence_lda_mallet = coherence_model_lda_mallet.get_coherence()\n",
    "\n",
    "print('\\nCoherence Score: ', coherence_lda_mallet)"
   ]
  },
  {
   "cell_type": "markdown",
   "metadata": {
    "colab_type": "text",
    "id": "UsZ-cB2j-_Up"
   },
   "source": [
    "# Find optimal number for topics"
   ]
  },
  {
   "cell_type": "code",
   "execution_count": 61,
   "metadata": {
    "colab": {},
    "colab_type": "code",
    "id": "aSNQuf9VSbbl"
   },
   "outputs": [],
   "source": [
    "def find_num_topic_based_on_coherence(dictionary, corpus, texts):\n",
    "    \"\"\"\n",
    "    Compute c_v coherence for various number of topics\n",
    "\n",
    "    Parameters:\n",
    "    ----------\n",
    "    dictionary : Gensim dictionary\n",
    "    corpus : Gensim corpus\n",
    "    texts : List of input texts\n",
    "    limit : Max num of topics\n",
    "\n",
    "    Returns:\n",
    "    -------\n",
    "    model_list : List of LDA topic models\n",
    "    coherence_values : Coherence values corresponding to the LDA model with respective number of topics\n",
    "    \"\"\"\n",
    "    coherence_values = []\n",
    "    model_list = []\n",
    "    for num_topics in [20,25,30,35,40,50,60,70,80,90]:\n",
    "        model = gensim.models.wrappers.LdaMallet(mallet_path, corpus=corpus, num_topics=num_topics, id2word=id_to_word)\n",
    "        model_list.append(model)\n",
    "        coherencemodel = CoherenceModel(model=model, texts=texts, dictionary=dictionary, coherence='c_v')\n",
    "        coherence_values.append(coherencemodel.get_coherence())\n",
    "\n",
    "    return model_list, coherence_values\n"
   ]
  },
  {
   "cell_type": "code",
   "execution_count": 62,
   "metadata": {
    "colab": {
     "base_uri": "https://localhost:8080/",
     "height": 72
    },
    "colab_type": "code",
    "id": "riF068iMT2hl",
    "outputId": "f9dbb704-72a0-497f-c645-46cdf8f1ac30"
   },
   "outputs": [],
   "source": [
    "start_search = time.time()\n",
    "\n",
    "model_list, coherence_values = find_num_topic_based_on_coherence(dictionary=id_to_word, corpus=corpus, texts=data_50['tokenize_text'])\n",
    "\n",
    "end_search = time.time()"
   ]
  },
  {
   "cell_type": "code",
   "execution_count": 63,
   "metadata": {
    "colab": {
     "base_uri": "https://localhost:8080/",
     "height": 34
    },
    "colab_type": "code",
    "id": "ZfN6Z5tJT4eh",
    "outputId": "88583490-5ebb-40ec-9af6-f0d3ef705ec9"
   },
   "outputs": [
    {
     "name": "stdout",
     "output_type": "stream",
     "text": [
      "time to search optimal num_topic is 58.06661287148793 minutes\n"
     ]
    }
   ],
   "source": [
    "print(\"time to search optimal num_topic is {} minutes\".format((end_search - start_search)/60))"
   ]
  },
  {
   "cell_type": "markdown",
   "metadata": {
    "colab_type": "text",
    "id": "WTyB0hkHRk2N"
   },
   "source": [
    "**Plot result**"
   ]
  },
  {
   "cell_type": "code",
   "execution_count": 64,
   "metadata": {
    "colab": {
     "base_uri": "https://localhost:8080/",
     "height": 279
    },
    "colab_type": "code",
    "id": "qItmZWwStVxo",
    "outputId": "37b94f4c-5944-44cd-a9d5-ca824b4682ce"
   },
   "outputs": [
    {
     "data": {
      "image/png": "[encoded data removed]",
      "text/plain": [
       "<Figure size 432x288 with 1 Axes>"
      ]
     },
     "metadata": {
      "needs_background": "light"
     },
     "output_type": "display_data"
    }
   ],
   "source": [
    "# plot graph\n",
    "x = [20,25,30,35,40,50,60,70,80,90]\n",
    "plt.plot(x, coherence_values)\n",
    "plt.xlabel(\"Num Topics\")\n",
    "plt.ylabel(\"Coherence score\")\n",
    "plt.legend((\"coherence_values\"), loc='best')\n",
    "plt.show()"
   ]
  },
  {
   "cell_type": "code",
   "execution_count": 65,
   "metadata": {
    "colab": {
     "base_uri": "https://localhost:8080/",
     "height": 191
    },
    "colab_type": "code",
    "id": "u8bJssOntZGR",
    "outputId": "50a74d34-91c0-4155-ebb0-3606efc25f91"
   },
   "outputs": [
    {
     "name": "stdout",
     "output_type": "stream",
     "text": [
      "Number of Topics = 20  has Coherence Value of 0.3244\n",
      "Number of Topics = 25  has Coherence Value of 0.339\n",
      "Number of Topics = 30  has Coherence Value of 0.3452\n",
      "Number of Topics = 35  has Coherence Value of 0.3571\n",
      "Number of Topics = 40  has Coherence Value of 0.3446\n",
      "Number of Topics = 50  has Coherence Value of 0.3632\n",
      "Number of Topics = 60  has Coherence Value of 0.3528\n",
      "Number of Topics = 70  has Coherence Value of 0.3637\n",
      "Number of Topics = 80  has Coherence Value of 0.3597\n",
      "Number of Topics = 90  has Coherence Value of 0.3565\n"
     ]
    }
   ],
   "source": [
    "# Print the coherence scores for each number of topic\n",
    "for m, cv in zip(x, coherence_values):\n",
    "    print(\"Number of Topics =\", m, \" has Coherence Value of\", round(cv, 4))"
   ]
  },
  {
   "cell_type": "markdown",
   "metadata": {
    "colab_type": "text",
    "id": "FQWES5eGt1lE"
   },
   "source": [
    "**Here we will take 70 as final number of topic as it hase highest coherence value**"
   ]
  },
  {
   "cell_type": "code",
   "execution_count": 66,
   "metadata": {
    "colab": {},
    "colab_type": "code",
    "id": "QcgdfLTPtk1l"
   },
   "outputs": [],
   "source": [
    "final_lda_model = model_list[7] # in list we have70 at 7th position"
   ]
  },
  {
   "cell_type": "code",
   "execution_count": 67,
   "metadata": {
    "colab": {
     "base_uri": "https://localhost:8080/",
     "height": 1000
    },
    "colab_type": "code",
    "id": "EnC17jZcuNeu",
    "outputId": "1c55c9d7-2b64-4e7b-8efd-e90ca2c01823"
   },
   "outputs": [
    {
     "name": "stdout",
     "output_type": "stream",
     "text": [
      "[(44,\n",
      "  '0.144*\"fund\" + 0.094*\"job\" + 0.088*\"cut\" + 0.077*\"boost\" + 0.072*\"budget\" + '\n",
      "  '0.047*\"govern\" + 0.042*\"feder\" + 0.029*\"cost\" + 0.026*\"announc\" + '\n",
      "  '0.023*\"promis\"'),\n",
      " (65,\n",
      "  '0.090*\"market\" + 0.062*\"share\" + 0.057*\"fall\" + 0.040*\"australian\" + '\n",
      "  '0.032*\"profit\" + 0.030*\"street\" + 0.027*\"post\" + 0.026*\"dollar\" + '\n",
      "  '0.026*\"local\" + 0.023*\"bank\"'),\n",
      " (28,\n",
      "  '0.152*\"year\" + 0.081*\"time\" + 0.034*\"canberra\" + 0.032*\"million\" + '\n",
      "  '0.025*\"end\" + 0.024*\"perth\" + 0.024*\"collaps\" + 0.021*\"celebr\" + '\n",
      "  '0.019*\"build\" + 0.019*\"tough\"'),\n",
      " (10,\n",
      "  '0.095*\"power\" + 0.051*\"station\" + 0.046*\"ga\" + 0.039*\"plant\" + 0.039*\"site\" '\n",
      "  '+ 0.030*\"energi\" + 0.030*\"dump\" + 0.030*\"hill\" + 0.028*\"gener\" + '\n",
      "  '0.028*\"nuclear\"'),\n",
      " (29,\n",
      "  '0.053*\"launch\" + 0.049*\"campaign\" + 0.041*\"terror\" + 0.035*\"anti\" + '\n",
      "  '0.031*\"target\" + 0.021*\"ad\" + 0.019*\"tv\" + 0.019*\"british\" + 0.018*\"tri\" + '\n",
      "  '0.018*\"move\"'),\n",
      " (41,\n",
      "  '0.055*\"studi\" + 0.046*\"research\" + 0.038*\"cancer\" + 0.032*\"risk\" + '\n",
      "  '0.026*\"find\" + 0.025*\"link\" + 0.020*\"diseas\" + 0.019*\"treatment\" + '\n",
      "  '0.018*\"heart\" + 0.014*\"prevent\"'),\n",
      " (7,\n",
      "  '0.130*\"claim\" + 0.113*\"win\" + 0.069*\"reject\" + 0.050*\"tour\" + 0.040*\"titl\" '\n",
      "  '+ 0.033*\"deni\" + 0.023*\"stage\" + 0.017*\"franc\" + 0.015*\"de\" + '\n",
      "  '0.015*\"nativ\"'),\n",
      " (3,\n",
      "  '0.124*\"open\" + 0.055*\"lead\" + 0.047*\"final\" + 0.031*\"australian\" + '\n",
      "  '0.025*\"win\" + 0.021*\"french\" + 0.021*\"round\" + 0.019*\"william\" + '\n",
      "  '0.018*\"aussi\" + 0.016*\"reach\"'),\n",
      " (33,\n",
      "  '0.088*\"polic\" + 0.043*\"driver\" + 0.039*\"hunt\" + 0.036*\"fine\" + '\n",
      "  '0.030*\"speed\" + 0.027*\"car\" + 0.025*\"illeg\" + 0.025*\"arm\" + 0.023*\"chase\" + '\n",
      "  '0.020*\"robberi\"'),\n",
      " (48,\n",
      "  '0.100*\"price\" + 0.044*\"futur\" + 0.038*\"oil\" + 0.032*\"fuel\" + '\n",
      "  '0.032*\"increas\" + 0.029*\"drop\" + 0.027*\"cost\" + 0.024*\"mill\" + '\n",
      "  '0.019*\"despit\" + 0.018*\"pressur\"'),\n",
      " (5,\n",
      "  '0.065*\"land\" + 0.061*\"sale\" + 0.046*\"clear\" + 0.032*\"manag\" + 0.029*\"owner\" '\n",
      "  '+ 0.029*\"sell\" + 0.025*\"properti\" + 0.024*\"anim\" + 0.023*\"telstra\" + '\n",
      "  '0.022*\"tasmania\"'),\n",
      " (6,\n",
      "  '0.121*\"hit\" + 0.068*\"run\" + 0.058*\"prison\" + 0.054*\"leav\" + 0.037*\"critic\" '\n",
      "  '+ 0.029*\"darwin\" + 0.029*\"escap\" + 0.029*\"secur\" + 0.019*\"quak\" + '\n",
      "  '0.018*\"tsunami\"'),\n",
      " (17,\n",
      "  '0.117*\"elect\" + 0.056*\"vote\" + 0.047*\"parti\" + 0.039*\"liber\" + '\n",
      "  '0.039*\"labor\" + 0.031*\"poll\" + 0.027*\"candid\" + 0.026*\"mp\" + 0.025*\"senat\" '\n",
      "  '+ 0.022*\"result\"'),\n",
      " (54,\n",
      "  '0.054*\"talk\" + 0.052*\"forc\" + 0.024*\"israel\" + 0.024*\"leader\" + '\n",
      "  '0.024*\"russia\" + 0.022*\"iraq\" + 0.022*\"rebel\" + 0.020*\"peac\" + '\n",
      "  '0.019*\"syria\" + 0.018*\"aid\"'),\n",
      " (19,\n",
      "  '0.075*\"indigen\" + 0.070*\"farm\" + 0.060*\"commun\" + 0.042*\"media\" + '\n",
      "  '0.037*\"peopl\" + 0.035*\"festiv\" + 0.034*\"wind\" + 0.028*\"young\" + '\n",
      "  '0.027*\"film\" + 0.025*\"aborigin\"'),\n",
      " (50,\n",
      "  '0.147*\"sydney\" + 0.091*\"melbourn\" + 0.059*\"brisban\" + 0.050*\"adelaid\" + '\n",
      "  '0.041*\"perth\" + 0.038*\"citi\" + 0.036*\"hobart\" + 0.023*\"victori\" + '\n",
      "  '0.023*\"intern\" + 0.019*\"jet\"'),\n",
      " (62,\n",
      "  '0.104*\"report\" + 0.043*\"releas\" + 0.032*\"scheme\" + 0.030*\"blame\" + '\n",
      "  '0.030*\"highlight\" + 0.030*\"reveal\" + 0.029*\"problem\" + 0.028*\"wont\" + '\n",
      "  '0.025*\"david\" + 0.023*\"good\"'),\n",
      " (8,\n",
      "  '0.074*\"meet\" + 0.057*\"island\" + 0.039*\"discuss\" + 0.036*\"pacif\" + '\n",
      "  '0.036*\"john\" + 0.027*\"christma\" + 0.023*\"king\" + 0.021*\"minist\" + '\n",
      "  '0.017*\"decid\" + 0.016*\"futur\"'),\n",
      " (43,\n",
      "  '0.100*\"set\" + 0.093*\"record\" + 0.063*\"train\" + 0.053*\"break\" + '\n",
      "  '0.032*\"doubl\" + 0.024*\"australian\" + 0.024*\"anoth\" + 0.021*\"big\" + '\n",
      "  '0.020*\"mix\" + 0.018*\"eye\"'),\n",
      " (14,\n",
      "  '0.119*\"school\" + 0.078*\"public\" + 0.041*\"student\" + 0.039*\"children\" + '\n",
      "  '0.037*\"high\" + 0.033*\"educ\" + 0.033*\"program\" + 0.029*\"parent\" + '\n",
      "  '0.023*\"kid\" + 0.023*\"money\"')]\n"
     ]
    }
   ],
   "source": [
    "model_topics = final_lda_model.show_topics(formatted=False)\n",
    "\n",
    "pprint(final_lda_model.print_topics(num_words=10))"
   ]
  },
  {
   "cell_type": "code",
   "execution_count": 81,
   "metadata": {
    "collapsed": true
   },
   "outputs": [
    {
     "ename": "KeyError",
     "evalue": "'Terms per Topic'",
     "output_type": "error",
     "traceback": [
      "\u001b[1;31m---------------------------------------------------------------------------\u001b[0m",
      "\u001b[1;31mKeyError\u001b[0m                                  Traceback (most recent call last)",
      "\u001b[1;32m~\\Anaconda3\\lib\\site-packages\\pandas\\core\\indexes\\base.py\u001b[0m in \u001b[0;36mget_loc\u001b[1;34m(self, key, method, tolerance)\u001b[0m\n\u001b[0;32m   2896\u001b[0m             \u001b[1;32mtry\u001b[0m\u001b[1;33m:\u001b[0m\u001b[1;33m\u001b[0m\u001b[1;33m\u001b[0m\u001b[0m\n\u001b[1;32m-> 2897\u001b[1;33m                 \u001b[1;32mreturn\u001b[0m \u001b[0mself\u001b[0m\u001b[1;33m.\u001b[0m\u001b[0m_engine\u001b[0m\u001b[1;33m.\u001b[0m\u001b[0mget_loc\u001b[0m\u001b[1;33m(\u001b[0m\u001b[0mkey\u001b[0m\u001b[1;33m)\u001b[0m\u001b[1;33m\u001b[0m\u001b[1;33m\u001b[0m\u001b[0m\n\u001b[0m\u001b[0;32m   2898\u001b[0m             \u001b[1;32mexcept\u001b[0m \u001b[0mKeyError\u001b[0m\u001b[1;33m:\u001b[0m\u001b[1;33m\u001b[0m\u001b[1;33m\u001b[0m\u001b[0m\n",
      "\u001b[1;32mpandas\\_libs\\index.pyx\u001b[0m in \u001b[0;36mpandas._libs.index.IndexEngine.get_loc\u001b[1;34m()\u001b[0m\n",
      "\u001b[1;32mpandas\\_libs\\index.pyx\u001b[0m in \u001b[0;36mpandas._libs.index.IndexEngine.get_loc\u001b[1;34m()\u001b[0m\n",
      "\u001b[1;32mpandas\\_libs\\hashtable_class_helper.pxi\u001b[0m in \u001b[0;36mpandas._libs.hashtable.PyObjectHashTable.get_item\u001b[1;34m()\u001b[0m\n",
      "\u001b[1;32mpandas\\_libs\\hashtable_class_helper.pxi\u001b[0m in \u001b[0;36mpandas._libs.hashtable.PyObjectHashTable.get_item\u001b[1;34m()\u001b[0m\n",
      "\u001b[1;31mKeyError\u001b[0m: 'Terms per Topic'",
      "\nDuring handling of the above exception, another exception occurred:\n",
      "\u001b[1;31mKeyError\u001b[0m                                  Traceback (most recent call last)",
      "\u001b[1;32m<ipython-input-81-3321e863b45e>\u001b[0m in \u001b[0;36m<module>\u001b[1;34m\u001b[0m\n\u001b[0;32m     11\u001b[0m \u001b[1;32mfor\u001b[0m \u001b[0mi\u001b[0m \u001b[1;32min\u001b[0m \u001b[0mrange\u001b[0m\u001b[1;33m(\u001b[0m\u001b[1;36m10\u001b[0m\u001b[1;33m)\u001b[0m\u001b[1;33m:\u001b[0m\u001b[1;33m\u001b[0m\u001b[1;33m\u001b[0m\u001b[0m\n\u001b[0;32m     12\u001b[0m \u001b[1;33m\u001b[0m\u001b[0m\n\u001b[1;32m---> 13\u001b[1;33m     \u001b[0mwc\u001b[0m\u001b[1;33m.\u001b[0m\u001b[0mgenerate\u001b[0m\u001b[1;33m(\u001b[0m\u001b[0mtext\u001b[0m\u001b[1;33m=\u001b[0m\u001b[0mdata\u001b[0m\u001b[1;33m[\u001b[0m\u001b[1;34m\"Terms per Topic\"\u001b[0m\u001b[1;33m]\u001b[0m\u001b[1;33m[\u001b[0m\u001b[0mi\u001b[0m\u001b[1;33m]\u001b[0m\u001b[1;33m)\u001b[0m\u001b[1;33m\u001b[0m\u001b[1;33m\u001b[0m\u001b[0m\n\u001b[0m\u001b[0;32m     14\u001b[0m \u001b[1;33m\u001b[0m\u001b[0m\n\u001b[0;32m     15\u001b[0m     \u001b[0mplt\u001b[0m\u001b[1;33m.\u001b[0m\u001b[0msubplot\u001b[0m\u001b[1;33m(\u001b[0m\u001b[1;36m5\u001b[0m\u001b[1;33m,\u001b[0m \u001b[1;36m4\u001b[0m\u001b[1;33m,\u001b[0m \u001b[0mi\u001b[0m\u001b[1;33m+\u001b[0m\u001b[1;36m1\u001b[0m\u001b[1;33m)\u001b[0m\u001b[1;33m\u001b[0m\u001b[1;33m\u001b[0m\u001b[0m\n",
      "\u001b[1;32m~\\Anaconda3\\lib\\site-packages\\pandas\\core\\frame.py\u001b[0m in \u001b[0;36m__getitem__\u001b[1;34m(self, key)\u001b[0m\n\u001b[0;32m   2978\u001b[0m             \u001b[1;32mif\u001b[0m \u001b[0mself\u001b[0m\u001b[1;33m.\u001b[0m\u001b[0mcolumns\u001b[0m\u001b[1;33m.\u001b[0m\u001b[0mnlevels\u001b[0m \u001b[1;33m>\u001b[0m \u001b[1;36m1\u001b[0m\u001b[1;33m:\u001b[0m\u001b[1;33m\u001b[0m\u001b[1;33m\u001b[0m\u001b[0m\n\u001b[0;32m   2979\u001b[0m                 \u001b[1;32mreturn\u001b[0m \u001b[0mself\u001b[0m\u001b[1;33m.\u001b[0m\u001b[0m_getitem_multilevel\u001b[0m\u001b[1;33m(\u001b[0m\u001b[0mkey\u001b[0m\u001b[1;33m)\u001b[0m\u001b[1;33m\u001b[0m\u001b[1;33m\u001b[0m\u001b[0m\n\u001b[1;32m-> 2980\u001b[1;33m             \u001b[0mindexer\u001b[0m \u001b[1;33m=\u001b[0m \u001b[0mself\u001b[0m\u001b[1;33m.\u001b[0m\u001b[0mcolumns\u001b[0m\u001b[1;33m.\u001b[0m\u001b[0mget_loc\u001b[0m\u001b[1;33m(\u001b[0m\u001b[0mkey\u001b[0m\u001b[1;33m)\u001b[0m\u001b[1;33m\u001b[0m\u001b[1;33m\u001b[0m\u001b[0m\n\u001b[0m\u001b[0;32m   2981\u001b[0m             \u001b[1;32mif\u001b[0m \u001b[0mis_integer\u001b[0m\u001b[1;33m(\u001b[0m\u001b[0mindexer\u001b[0m\u001b[1;33m)\u001b[0m\u001b[1;33m:\u001b[0m\u001b[1;33m\u001b[0m\u001b[1;33m\u001b[0m\u001b[0m\n\u001b[0;32m   2982\u001b[0m                 \u001b[0mindexer\u001b[0m \u001b[1;33m=\u001b[0m \u001b[1;33m[\u001b[0m\u001b[0mindexer\u001b[0m\u001b[1;33m]\u001b[0m\u001b[1;33m\u001b[0m\u001b[1;33m\u001b[0m\u001b[0m\n",
      "\u001b[1;32m~\\Anaconda3\\lib\\site-packages\\pandas\\core\\indexes\\base.py\u001b[0m in \u001b[0;36mget_loc\u001b[1;34m(self, key, method, tolerance)\u001b[0m\n\u001b[0;32m   2897\u001b[0m                 \u001b[1;32mreturn\u001b[0m \u001b[0mself\u001b[0m\u001b[1;33m.\u001b[0m\u001b[0m_engine\u001b[0m\u001b[1;33m.\u001b[0m\u001b[0mget_loc\u001b[0m\u001b[1;33m(\u001b[0m\u001b[0mkey\u001b[0m\u001b[1;33m)\u001b[0m\u001b[1;33m\u001b[0m\u001b[1;33m\u001b[0m\u001b[0m\n\u001b[0;32m   2898\u001b[0m             \u001b[1;32mexcept\u001b[0m \u001b[0mKeyError\u001b[0m\u001b[1;33m:\u001b[0m\u001b[1;33m\u001b[0m\u001b[1;33m\u001b[0m\u001b[0m\n\u001b[1;32m-> 2899\u001b[1;33m                 \u001b[1;32mreturn\u001b[0m \u001b[0mself\u001b[0m\u001b[1;33m.\u001b[0m\u001b[0m_engine\u001b[0m\u001b[1;33m.\u001b[0m\u001b[0mget_loc\u001b[0m\u001b[1;33m(\u001b[0m\u001b[0mself\u001b[0m\u001b[1;33m.\u001b[0m\u001b[0m_maybe_cast_indexer\u001b[0m\u001b[1;33m(\u001b[0m\u001b[0mkey\u001b[0m\u001b[1;33m)\u001b[0m\u001b[1;33m)\u001b[0m\u001b[1;33m\u001b[0m\u001b[1;33m\u001b[0m\u001b[0m\n\u001b[0m\u001b[0;32m   2900\u001b[0m         \u001b[0mindexer\u001b[0m \u001b[1;33m=\u001b[0m \u001b[0mself\u001b[0m\u001b[1;33m.\u001b[0m\u001b[0mget_indexer\u001b[0m\u001b[1;33m(\u001b[0m\u001b[1;33m[\u001b[0m\u001b[0mkey\u001b[0m\u001b[1;33m]\u001b[0m\u001b[1;33m,\u001b[0m \u001b[0mmethod\u001b[0m\u001b[1;33m=\u001b[0m\u001b[0mmethod\u001b[0m\u001b[1;33m,\u001b[0m \u001b[0mtolerance\u001b[0m\u001b[1;33m=\u001b[0m\u001b[0mtolerance\u001b[0m\u001b[1;33m)\u001b[0m\u001b[1;33m\u001b[0m\u001b[1;33m\u001b[0m\u001b[0m\n\u001b[0;32m   2901\u001b[0m         \u001b[1;32mif\u001b[0m \u001b[0mindexer\u001b[0m\u001b[1;33m.\u001b[0m\u001b[0mndim\u001b[0m \u001b[1;33m>\u001b[0m \u001b[1;36m1\u001b[0m \u001b[1;32mor\u001b[0m \u001b[0mindexer\u001b[0m\u001b[1;33m.\u001b[0m\u001b[0msize\u001b[0m \u001b[1;33m>\u001b[0m \u001b[1;36m1\u001b[0m\u001b[1;33m:\u001b[0m\u001b[1;33m\u001b[0m\u001b[1;33m\u001b[0m\u001b[0m\n",
      "\u001b[1;32mpandas\\_libs\\index.pyx\u001b[0m in \u001b[0;36mpandas._libs.index.IndexEngine.get_loc\u001b[1;34m()\u001b[0m\n",
      "\u001b[1;32mpandas\\_libs\\index.pyx\u001b[0m in \u001b[0;36mpandas._libs.index.IndexEngine.get_loc\u001b[1;34m()\u001b[0m\n",
      "\u001b[1;32mpandas\\_libs\\hashtable_class_helper.pxi\u001b[0m in \u001b[0;36mpandas._libs.hashtable.PyObjectHashTable.get_item\u001b[1;34m()\u001b[0m\n",
      "\u001b[1;32mpandas\\_libs\\hashtable_class_helper.pxi\u001b[0m in \u001b[0;36mpandas._libs.hashtable.PyObjectHashTable.get_item\u001b[1;34m()\u001b[0m\n",
      "\u001b[1;31mKeyError\u001b[0m: 'Terms per Topic'"
     ]
    }
   ],
   "source": []
  },
  {
   "cell_type": "code",
   "execution_count": null,
   "metadata": {},
   "outputs": [],
   "source": []
  }
 ],
 "metadata": {
  "accelerator": "GPU",
  "colab": {
   "collapsed_sections": [],
   "name": "final_LDA.ipynb",
   "provenance": [],
   "toc_visible": true
  },
  "kernelspec": {
   "display_name": "Python 3",
   "language": "python",
   "name": "python3"
  },
  "language_info": {
   "codemirror_mode": {
    "name": "ipython",
    "version": 3
   },
   "file_extension": ".py",
   "mimetype": "text/x-python",
   "name": "python",
   "nbconvert_exporter": "python",
   "pygments_lexer": "ipython3",
   "version": "3.7.4"
  }
 },
 "nbformat": 4,
 "nbformat_minor": 1
}
